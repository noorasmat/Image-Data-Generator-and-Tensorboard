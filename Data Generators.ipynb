{
 "cells": [
  {
   "cell_type": "markdown",
   "metadata": {},
   "source": [
    "Training CNN using callbacks and Data Generators "
   ]
  },
  {
   "cell_type": "code",
   "execution_count": 1,
   "metadata": {
    "colab": {},
    "colab_type": "code",
    "id": "OjaVXiq8xlm0"
   },
   "outputs": [
    {
     "name": "stderr",
     "output_type": "stream",
     "text": [
      "Using TensorFlow backend.\n"
     ]
    }
   ],
   "source": [
    "import pandas as pd\n",
    "import numpy as np\n",
    "import matplotlib.pyplot as plt\n",
    "import seaborn as sns \n",
    "\n",
    "from sklearn.model_selection import train_test_split\n",
    "\n",
    "from keras.utils.np_utils import to_categorical\n",
    "from keras.models import Sequential\n",
    "from keras.layers import Dense, Dropout, Flatten, Conv2D, MaxPooling2D ,MaxPool2D  \n",
    "from keras.optimizers import Adam\n",
    "from keras.preprocessing.image import ImageDataGenerator  \n",
    "from keras.callbacks import TensorBoard, ReduceLROnPlateau\n",
    "from keras.layers.normalization import BatchNormalization\n"
   ]
  },
  {
   "cell_type": "code",
   "execution_count": 2,
   "metadata": {},
   "outputs": [],
   "source": [
    "from os import makedirs\n",
    "from os.path import exists, join"
   ]
  },
  {
   "cell_type": "code",
   "execution_count": 3,
   "metadata": {},
   "outputs": [],
   "source": [
    "batch_size=20\n",
    "log_dir = './logs-cnn'\n",
    "epochs = 10\n",
    "batch_size = 64\n",
    "if not exists(log_dir):\n",
    "    makedirs(log_dir)\n"
   ]
  },
  {
   "cell_type": "code",
   "execution_count": 4,
   "metadata": {},
   "outputs": [],
   "source": [
    "from os.path import exists, join"
   ]
  },
  {
   "cell_type": "code",
   "execution_count": 5,
   "metadata": {
    "colab": {},
    "colab_type": "code",
    "id": "GVCqhIn3xlnG"
   },
   "outputs": [],
   "source": [
    "sns.set(style='white', context='notebook', palette='deep')"
   ]
  },
  {
   "cell_type": "code",
   "execution_count": 6,
   "metadata": {
    "colab": {},
    "colab_type": "code",
    "id": "o_6u7PCLxlnP",
    "outputId": "f2783951-083e-4ca1-c989-c3aab8526ca1"
   },
   "outputs": [
    {
     "data": {
      "image/png": "[encoded data removed]",
      "text/plain": [
       "<Figure size 432x288 with 1 Axes>"
      ]
     },
     "metadata": {},
     "output_type": "display_data"
    }
   ],
   "source": [
    "X_train = pd.read_csv('./mnist_train.csv')\n",
    "X_test = pd.read_csv('./mnist_test.csv')\n",
    "y_train = X_train['label']\n",
    "X_train = X_train.drop(labels=['label'], axis=1)\n",
    "g = sns.countplot(y_train)"
   ]
  },
  {
   "cell_type": "code",
   "execution_count": 7,
   "metadata": {
    "colab": {},
    "colab_type": "code",
    "id": "zo9eZbP8xlnh",
    "outputId": "c0a38ad0-c1c0-4777-ec68-8c7b57f64c40"
   },
   "outputs": [
    {
     "data": {
      "image/png": "[encoded data removed]",
      "text/plain": [
       "<Figure size 432x288 with 1 Axes>"
      ]
     },
     "metadata": {},
     "output_type": "display_data"
    }
   ],
   "source": [
    "y_test = X_test['label']\n",
    "X_test = X_test.drop(labels=['label'], axis=1)\n",
    "g = sns.countplot(y_test)"
   ]
  },
  {
   "cell_type": "code",
   "execution_count": 8,
   "metadata": {
    "colab": {},
    "colab_type": "code",
    "id": "uENCsn72xlnx",
    "outputId": "f97ac6ae-e21e-4da2-abf1-077d70319dbc"
   },
   "outputs": [
    {
     "data": {
      "text/plain": [
       "1    6742\n",
       "7    6265\n",
       "3    6131\n",
       "2    5958\n",
       "9    5949\n",
       "0    5923\n",
       "6    5918\n",
       "8    5851\n",
       "4    5842\n",
       "5    5421\n",
       "Name: label, dtype: int64"
      ]
     },
     "execution_count": 8,
     "metadata": {},
     "output_type": "execute_result"
    }
   ],
   "source": [
    "y_train.value_counts()"
   ]
  },
  {
   "cell_type": "code",
   "execution_count": 9,
   "metadata": {
    "colab": {},
    "colab_type": "code",
    "id": "wrbhoZFYxln-",
    "outputId": "6d1a359f-b955-49b9-b9ec-8bd7d369314f"
   },
   "outputs": [
    {
     "data": {
      "text/plain": [
       "1    1135\n",
       "2    1032\n",
       "7    1028\n",
       "3    1010\n",
       "9    1009\n",
       "4     982\n",
       "0     980\n",
       "8     974\n",
       "6     958\n",
       "5     892\n",
       "Name: label, dtype: int64"
      ]
     },
     "execution_count": 9,
     "metadata": {},
     "output_type": "execute_result"
    }
   ],
   "source": [
    "y_test.value_counts()"
   ]
  },
  {
   "cell_type": "code",
   "execution_count": 10,
   "metadata": {
    "colab": {},
    "colab_type": "code",
    "id": "Cpqp2A1WxloJ",
    "outputId": "871eb0d9-cbd2-48a7-d767-bc5588c700dc"
   },
   "outputs": [
    {
     "data": {
      "text/plain": [
       "count       784\n",
       "unique        1\n",
       "top       False\n",
       "freq        784\n",
       "dtype: object"
      ]
     },
     "execution_count": 10,
     "metadata": {},
     "output_type": "execute_result"
    }
   ],
   "source": [
    "#check for null and missing values\n",
    "X_train.isnull().any().describe()"
   ]
  },
  {
   "cell_type": "code",
   "execution_count": 11,
   "metadata": {
    "colab": {},
    "colab_type": "code",
    "id": "YGF4UYKuxloU",
    "outputId": "530e21ff-0d00-4705-d3c2-0c20142e2722"
   },
   "outputs": [
    {
     "data": {
      "text/plain": [
       "count       784\n",
       "unique        1\n",
       "top       False\n",
       "freq        784\n",
       "dtype: object"
      ]
     },
     "execution_count": 11,
     "metadata": {},
     "output_type": "execute_result"
    }
   ],
   "source": [
    "X_test.isnull().any().describe()"
   ]
  },
  {
   "cell_type": "code",
   "execution_count": 12,
   "metadata": {
    "colab": {},
    "colab_type": "code",
    "id": "h-F2_gaXxlob",
    "outputId": "6a9d9cec-60d0-4e5b-d85b-4ab3e23da430"
   },
   "outputs": [
    {
     "data": {
      "image/png": "[encoded data removed]",
      "text/plain": [
       "<Figure size 432x288 with 1 Axes>"
      ]
     },
     "metadata": {},
     "output_type": "display_data"
    }
   ],
   "source": [
    "#Normalization\n",
    "X_train = X_train / 255\n",
    "X_test = X_test / 255\n",
    "\n",
    "#Reshape\n",
    "X_train = X_train.values.reshape(-1,28,28,1)\n",
    "X_test = X_test.values.reshape(-1,28,28,1)\n",
    "\n",
    "#Encode labels to one hot vectors\n",
    "y_train = to_categorical(y_train, num_classes=10)\n",
    "y_test = to_categorical(y_test, num_classes=10)\n",
    "\n",
    "#split training and validation set for the fitting\n",
    "random_seed = 2\n",
    "X_train, X_val, y_train, y_val = train_test_split(X_train,\n",
    "                                                 y_train,\n",
    "                                                 test_size=0.1,\n",
    "                                                 random_state=random_seed)\n",
    "g = plt.imshow(X_train[777][:,:,0])"
   ]
  },
  {
   "cell_type": "code",
   "execution_count": 13,
   "metadata": {},
   "outputs": [],
   "source": [
    "# save class labels to disk to color data points in TensorBoard accordingly\n",
    "with open(join(log_dir, 'metadata.tsv'), 'w') as f:\n",
    "    np.savetxt(f, y_val)"
   ]
  },
  {
   "cell_type": "code",
   "execution_count": 14,
   "metadata": {},
   "outputs": [],
   "source": [
    "tensorboard = TensorBoard(batch_size=batch_size,\n",
    "                          embeddings_freq=1,\n",
    "                          embeddings_layer_names=['features'],\n",
    "                          embeddings_metadata='metadata.tsv',\n",
    "                          embeddings_data= X_val,\n",
    "                          histogram_freq=0, \n",
    "                          write_graph=True, \n",
    "                          write_grads=False, \n",
    "                          write_images=False, \n",
    "                          update_freq='epoch',\n",
    "                          log_dir=log_dir )"
   ]
  },
  {
   "cell_type": "code",
   "execution_count": 15,
   "metadata": {},
   "outputs": [
    {
     "name": "stderr",
     "output_type": "stream",
     "text": [
      "WARNING: Logging before flag parsing goes to stderr.\n",
      "W0703 15:41:55.168592  2280 deprecation_wrapper.py:119] From C:\\Users\\Noor\\Anaconda3\\lib\\site-packages\\keras\\backend\\tensorflow_backend.py:74: The name tf.get_default_graph is deprecated. Please use tf.compat.v1.get_default_graph instead.\n",
      "\n",
      "W0703 15:41:55.188669  2280 deprecation_wrapper.py:119] From C:\\Users\\Noor\\Anaconda3\\lib\\site-packages\\keras\\backend\\tensorflow_backend.py:517: The name tf.placeholder is deprecated. Please use tf.compat.v1.placeholder instead.\n",
      "\n",
      "W0703 15:41:55.196672  2280 deprecation_wrapper.py:119] From C:\\Users\\Noor\\Anaconda3\\lib\\site-packages\\keras\\backend\\tensorflow_backend.py:4138: The name tf.random_uniform is deprecated. Please use tf.random.uniform instead.\n",
      "\n",
      "W0703 15:41:55.288675  2280 deprecation_wrapper.py:119] From C:\\Users\\Noor\\Anaconda3\\lib\\site-packages\\keras\\backend\\tensorflow_backend.py:3976: The name tf.nn.max_pool is deprecated. Please use tf.nn.max_pool2d instead.\n",
      "\n",
      "W0703 15:41:55.324679  2280 deprecation_wrapper.py:119] From C:\\Users\\Noor\\Anaconda3\\lib\\site-packages\\keras\\backend\\tensorflow_backend.py:174: The name tf.get_default_session is deprecated. Please use tf.compat.v1.get_default_session instead.\n",
      "\n",
      "W0703 15:41:55.324679  2280 deprecation_wrapper.py:119] From C:\\Users\\Noor\\Anaconda3\\lib\\site-packages\\keras\\backend\\tensorflow_backend.py:181: The name tf.ConfigProto is deprecated. Please use tf.compat.v1.ConfigProto instead.\n",
      "\n",
      "W0703 15:41:55.392701  2280 deprecation_wrapper.py:119] From C:\\Users\\Noor\\Anaconda3\\lib\\site-packages\\keras\\backend\\tensorflow_backend.py:1834: The name tf.nn.fused_batch_norm is deprecated. Please use tf.compat.v1.nn.fused_batch_norm instead.\n",
      "\n",
      "W0703 15:41:55.504011  2280 deprecation.py:506] From C:\\Users\\Noor\\Anaconda3\\lib\\site-packages\\keras\\backend\\tensorflow_backend.py:3445: calling dropout (from tensorflow.python.ops.nn_ops) with keep_prob is deprecated and will be removed in a future version.\n",
      "Instructions for updating:\n",
      "Please use `rate` instead of `keep_prob`. Rate should be set to `rate = 1 - keep_prob`.\n"
     ]
    },
    {
     "name": "stdout",
     "output_type": "stream",
     "text": [
      "_________________________________________________________________\n",
      "Layer (type)                 Output Shape              Param #   \n",
      "=================================================================\n",
      "conv2d_1 (Conv2D)            (None, 28, 28, 32)        320       \n",
      "_________________________________________________________________\n",
      "conv2d_2 (Conv2D)            (None, 28, 28, 32)        9248      \n",
      "_________________________________________________________________\n",
      "max_pooling2d_1 (MaxPooling2 (None, 14, 14, 32)        0         \n",
      "_________________________________________________________________\n",
      "batch_normalization_1 (Batch (None, 14, 14, 32)        128       \n",
      "_________________________________________________________________\n",
      "dropout_1 (Dropout)          (None, 14, 14, 32)        0         \n",
      "_________________________________________________________________\n",
      "conv2d_3 (Conv2D)            (None, 14, 14, 64)        18496     \n",
      "_________________________________________________________________\n",
      "conv2d_4 (Conv2D)            (None, 14, 14, 64)        36928     \n",
      "_________________________________________________________________\n",
      "max_pooling2d_2 (MaxPooling2 (None, 7, 7, 64)          0         \n",
      "_________________________________________________________________\n",
      "batch_normalization_2 (Batch (None, 7, 7, 64)          256       \n",
      "_________________________________________________________________\n",
      "dropout_2 (Dropout)          (None, 7, 7, 64)          0         \n",
      "_________________________________________________________________\n",
      "flatten_1 (Flatten)          (None, 3136)              0         \n",
      "_________________________________________________________________\n",
      "features (Dense)             (None, 256)               803072    \n",
      "_________________________________________________________________\n",
      "batch_normalization_3 (Batch (None, 256)               1024      \n",
      "_________________________________________________________________\n",
      "dropout_3 (Dropout)          (None, 256)               0         \n",
      "_________________________________________________________________\n",
      "dense_1 (Dense)              (None, 10)                2570      \n",
      "=================================================================\n",
      "Total params: 872,042\n",
      "Trainable params: 871,338\n",
      "Non-trainable params: 704\n",
      "_________________________________________________________________\n"
     ]
    }
   ],
   "source": [
    "#CNN model\n",
    "model = Sequential()\n",
    "model.add(Conv2D(32,(3,3), padding='same',\n",
    "                 activation='relu', input_shape =(28,28,1)))\n",
    "model.add(Conv2D(32,(3,3), padding='same',\n",
    "                activation='relu'))\n",
    "model.add(MaxPool2D(pool_size=(2,2)))\n",
    "model.add(BatchNormalization())\n",
    "model.add(Dropout(0.25))\n",
    "\n",
    "model.add(Conv2D(64,(3,3), padding='same',\n",
    "                activation='relu'))\n",
    "model.add(Conv2D(64,(3,3), padding='same',\n",
    "                activation='relu'))\n",
    "model.add(MaxPool2D(pool_size=(2,2)))\n",
    "model.add(BatchNormalization())\n",
    "model.add(Dropout(0.25))\n",
    "\n",
    "model.add(Flatten())\n",
    "model.add(Dense(256, activation='relu',name='features'))\n",
    "model.add(BatchNormalization())\n",
    "model.add(Dropout(0.4))\n",
    "model.add(Dense(10, activation='softmax'))\n",
    "\n",
    "model.summary()"
   ]
  },
  {
   "cell_type": "code",
   "execution_count": 16,
   "metadata": {
    "colab": {},
    "colab_type": "code",
    "id": "n9FD7vADxloy"
   },
   "outputs": [
    {
     "name": "stderr",
     "output_type": "stream",
     "text": [
      "W0703 15:41:56.063860  2280 deprecation_wrapper.py:119] From C:\\Users\\Noor\\Anaconda3\\lib\\site-packages\\keras\\optimizers.py:790: The name tf.train.Optimizer is deprecated. Please use tf.compat.v1.train.Optimizer instead.\n",
      "\n"
     ]
    }
   ],
   "source": [
    "#set optimizer and annealer\n",
    "optimizer = Adam(epsilon=1e-08)\n",
    "model.compile(optimizer=optimizer, loss='categorical_crossentropy',\n",
    "             metrics=['accuracy'])"
   ]
  },
  {
   "cell_type": "code",
   "execution_count": 17,
   "metadata": {
    "colab": {},
    "colab_type": "code",
    "id": "jgL4z3mXxlo8"
   },
   "outputs": [],
   "source": [
    "#data augmentation\n",
    "datagen = ImageDataGenerator(\n",
    "            featurewise_center=True,\n",
    "            featurewise_std_normalization=True,\n",
    "            rotation_range=20,\n",
    "            width_shift_range=0.2,\n",
    "            height_shift_range=0.2)\n",
    "datagen.fit(X_train)"
   ]
  },
  {
   "cell_type": "code",
   "execution_count": 18,
   "metadata": {
    "colab": {},
    "colab_type": "code",
    "id": "-Oj_PQ1hxlpB",
    "outputId": "6b42008e-3ed7-40ea-a2f8-338697e68a1b"
   },
   "outputs": [
    {
     "name": "stderr",
     "output_type": "stream",
     "text": [
      "W0703 15:41:57.164281  2280 deprecation.py:323] From C:\\Users\\Noor\\Anaconda3\\lib\\site-packages\\tensorflow\\python\\ops\\math_grad.py:1250: add_dispatch_support.<locals>.wrapper (from tensorflow.python.ops.array_ops) is deprecated and will be removed in a future version.\n",
      "Instructions for updating:\n",
      "Use tf.where in 2.0, which has the same broadcast rule as np.where\n",
      "W0703 15:41:59.021970  2280 deprecation_wrapper.py:119] From C:\\Users\\Noor\\Anaconda3\\lib\\site-packages\\keras\\callbacks.py:850: The name tf.summary.merge_all is deprecated. Please use tf.compat.v1.summary.merge_all instead.\n",
      "\n",
      "W0703 15:41:59.021970  2280 deprecation_wrapper.py:119] From C:\\Users\\Noor\\Anaconda3\\lib\\site-packages\\keras\\callbacks.py:853: The name tf.summary.FileWriter is deprecated. Please use tf.compat.v1.summary.FileWriter instead.\n",
      "\n",
      "W0703 15:41:59.601244  2280 deprecation_wrapper.py:119] From C:\\Users\\Noor\\Anaconda3\\lib\\site-packages\\keras\\callbacks.py:887: The name tf.train.Saver is deprecated. Please use tf.compat.v1.train.Saver instead.\n",
      "\n"
     ]
    },
    {
     "name": "stdout",
     "output_type": "stream",
     "text": [
      "Epoch 1/10\n",
      "64/64 [==============================] - 33s 513ms/step - loss: 1.8841 - acc: 0.4355 - val_loss: 2.8909 - val_acc: 0.1705\n",
      "Epoch 2/10\n",
      "64/64 [==============================] - 32s 493ms/step - loss: 0.7957 - acc: 0.7385 - val_loss: 2.9099 - val_acc: 0.2167\n",
      "Epoch 3/10\n",
      "64/64 [==============================] - 32s 493ms/step - loss: 0.5396 - acc: 0.8250 - val_loss: 6.5082 - val_acc: 0.0983\n",
      "Epoch 4/10\n",
      "64/64 [==============================] - 32s 493ms/step - loss: 0.4023 - acc: 0.8777 - val_loss: 7.9633 - val_acc: 0.0983\n",
      "Epoch 5/10\n",
      "64/64 [==============================] - 31s 490ms/step - loss: 0.3206 - acc: 0.8997 - val_loss: 13.1074 - val_acc: 0.0983\n",
      "Epoch 6/10\n",
      "64/64 [==============================] - 31s 490ms/step - loss: 0.3328 - acc: 0.8965 - val_loss: 12.0182 - val_acc: 0.0983\n"
     ]
    },
    {
     "name": "stderr",
     "output_type": "stream",
     "text": [
      "W0703 15:49:52.372736  2280 deprecation.py:323] From C:\\Users\\Noor\\Anaconda3\\lib\\site-packages\\tensorflow\\python\\training\\saver.py:960: remove_checkpoint (from tensorflow.python.training.checkpoint_management) is deprecated and will be removed in a future version.\n",
      "Instructions for updating:\n",
      "Use standard file APIs to delete files with this prefix.\n"
     ]
    },
    {
     "name": "stdout",
     "output_type": "stream",
     "text": [
      "Epoch 7/10\n",
      "64/64 [==============================] - 31s 490ms/step - loss: 0.2944 - acc: 0.9099 - val_loss: 11.4486 - val_acc: 0.0983\n",
      "Epoch 8/10\n",
      "64/64 [==============================] - 31s 488ms/step - loss: 0.2506 - acc: 0.9216 - val_loss: 11.5126 - val_acc: 0.0983\n",
      "Epoch 9/10\n",
      "64/64 [==============================] - 31s 488ms/step - loss: 0.2602 - acc: 0.9233 - val_loss: 14.1361 - val_acc: 0.0983\n",
      "Epoch 10/10\n",
      "64/64 [==============================] - 31s 487ms/step - loss: 0.2224 - acc: 0.9387 - val_loss: 14.2941 - val_acc: 0.0983\n"
     ]
    }
   ],
   "source": [
    "history = model.fit_generator(datagen.flow(x = X_train, y = y_train, batch_size = batch_size),\n",
    "                              callbacks=[tensorboard ],#callbacks_list,\n",
    "                              epochs = epochs, \n",
    "                              verbose = 1,\n",
    "                              validation_data = (X_val, y_val), \n",
    "                             steps_per_epoch = batch_size \n",
    "                              #steps_per_epoch = X_train.shape[0] // batch_size\n",
    "                   )"
   ]
  },
  {
   "cell_type": "markdown",
   "metadata": {},
   "source": [
    "Training Deep nN using callbacks and Data Generators "
   ]
  },
  {
   "cell_type": "code",
   "execution_count": 19,
   "metadata": {
    "colab": {},
    "colab_type": "code",
    "id": "OjaVXiq8xlm0"
   },
   "outputs": [],
   "source": [
    "import pandas as pd\n",
    "import numpy as np\n",
    "import matplotlib.pyplot as plt\n",
    "import seaborn as sns \n",
    "\n",
    "from sklearn.model_selection import train_test_split\n",
    "\n",
    "from keras.utils.np_utils import to_categorical\n",
    "from keras.models import Sequential\n",
    "from keras.layers import Dense, Dropout, Flatten, Conv2D, MaxPooling2D ,MaxPool2D  \n",
    "from keras.optimizers import Adam\n",
    "from keras.preprocessing.image import ImageDataGenerator  \n",
    "from keras.callbacks import TensorBoard, ReduceLROnPlateau\n",
    "from keras.layers.normalization import BatchNormalization\n"
   ]
  },
  {
   "cell_type": "code",
   "execution_count": 20,
   "metadata": {},
   "outputs": [],
   "source": [
    "import tensorflow as tf\n",
    "# To ignore keep_dims warning\n",
    "tf.logging.set_verbosity(tf.logging.ERROR)"
   ]
  },
  {
   "cell_type": "code",
   "execution_count": 21,
   "metadata": {},
   "outputs": [],
   "source": [
    "from os import makedirs\n",
    "from os.path import exists, join"
   ]
  },
  {
   "cell_type": "code",
   "execution_count": 22,
   "metadata": {},
   "outputs": [],
   "source": [
    "batch_size=20\n",
    "log_dir = './logs-dnn'\n",
    "epochs = 10\n",
    "batch_size = 64\n",
    "if not exists(log_dir):\n",
    "    makedirs(log_dir)\n"
   ]
  },
  {
   "cell_type": "code",
   "execution_count": 23,
   "metadata": {},
   "outputs": [],
   "source": [
    "from os.path import exists, join"
   ]
  },
  {
   "cell_type": "code",
   "execution_count": 24,
   "metadata": {
    "colab": {},
    "colab_type": "code",
    "id": "GVCqhIn3xlnG"
   },
   "outputs": [],
   "source": [
    "sns.set(style='white', context='notebook', palette='deep')"
   ]
  },
  {
   "cell_type": "code",
   "execution_count": 25,
   "metadata": {
    "colab": {},
    "colab_type": "code",
    "id": "o_6u7PCLxlnP",
    "outputId": "f2783951-083e-4ca1-c989-c3aab8526ca1"
   },
   "outputs": [
    {
     "data": {
      "image/png": "[encoded data removed]",
      "text/plain": [
       "<Figure size 432x288 with 1 Axes>"
      ]
     },
     "metadata": {},
     "output_type": "display_data"
    }
   ],
   "source": [
    "X_train = pd.read_csv('./mnist_train.csv')\n",
    "X_test = pd.read_csv('./mnist_test.csv')\n",
    "y_train = X_train['label']\n",
    "X_train = X_train.drop(labels=['label'], axis=1)\n",
    "g = sns.countplot(y_train)"
   ]
  },
  {
   "cell_type": "code",
   "execution_count": 26,
   "metadata": {
    "colab": {},
    "colab_type": "code",
    "id": "zo9eZbP8xlnh",
    "outputId": "c0a38ad0-c1c0-4777-ec68-8c7b57f64c40"
   },
   "outputs": [
    {
     "data": {
      "image/png": "[encoded data removed]",
      "text/plain": [
       "<Figure size 432x288 with 1 Axes>"
      ]
     },
     "metadata": {},
     "output_type": "display_data"
    }
   ],
   "source": [
    "y_test = X_test['label']\n",
    "X_test = X_test.drop(labels=['label'], axis=1)\n",
    "g = sns.countplot(y_test)"
   ]
  },
  {
   "cell_type": "code",
   "execution_count": 27,
   "metadata": {
    "colab": {},
    "colab_type": "code",
    "id": "uENCsn72xlnx",
    "outputId": "f97ac6ae-e21e-4da2-abf1-077d70319dbc"
   },
   "outputs": [
    {
     "data": {
      "text/plain": [
       "1    6742\n",
       "7    6265\n",
       "3    6131\n",
       "2    5958\n",
       "9    5949\n",
       "0    5923\n",
       "6    5918\n",
       "8    5851\n",
       "4    5842\n",
       "5    5421\n",
       "Name: label, dtype: int64"
      ]
     },
     "execution_count": 27,
     "metadata": {},
     "output_type": "execute_result"
    }
   ],
   "source": [
    "y_train.value_counts()"
   ]
  },
  {
   "cell_type": "code",
   "execution_count": 28,
   "metadata": {
    "colab": {},
    "colab_type": "code",
    "id": "wrbhoZFYxln-",
    "outputId": "6d1a359f-b955-49b9-b9ec-8bd7d369314f"
   },
   "outputs": [
    {
     "data": {
      "text/plain": [
       "1    1135\n",
       "2    1032\n",
       "7    1028\n",
       "3    1010\n",
       "9    1009\n",
       "4     982\n",
       "0     980\n",
       "8     974\n",
       "6     958\n",
       "5     892\n",
       "Name: label, dtype: int64"
      ]
     },
     "execution_count": 28,
     "metadata": {},
     "output_type": "execute_result"
    }
   ],
   "source": [
    "y_test.value_counts()"
   ]
  },
  {
   "cell_type": "code",
   "execution_count": 29,
   "metadata": {
    "colab": {},
    "colab_type": "code",
    "id": "Cpqp2A1WxloJ",
    "outputId": "871eb0d9-cbd2-48a7-d767-bc5588c700dc"
   },
   "outputs": [
    {
     "data": {
      "text/plain": [
       "count       784\n",
       "unique        1\n",
       "top       False\n",
       "freq        784\n",
       "dtype: object"
      ]
     },
     "execution_count": 29,
     "metadata": {},
     "output_type": "execute_result"
    }
   ],
   "source": [
    "#check for null and missing values\n",
    "X_train.isnull().any().describe()"
   ]
  },
  {
   "cell_type": "code",
   "execution_count": 30,
   "metadata": {
    "colab": {},
    "colab_type": "code",
    "id": "YGF4UYKuxloU",
    "outputId": "530e21ff-0d00-4705-d3c2-0c20142e2722"
   },
   "outputs": [
    {
     "data": {
      "text/plain": [
       "count       784\n",
       "unique        1\n",
       "top       False\n",
       "freq        784\n",
       "dtype: object"
      ]
     },
     "execution_count": 30,
     "metadata": {},
     "output_type": "execute_result"
    }
   ],
   "source": [
    "X_test.isnull().any().describe()"
   ]
  },
  {
   "cell_type": "code",
   "execution_count": 31,
   "metadata": {
    "colab": {},
    "colab_type": "code",
    "id": "h-F2_gaXxlob",
    "outputId": "6a9d9cec-60d0-4e5b-d85b-4ab3e23da430"
   },
   "outputs": [
    {
     "data": {
      "image/png": "[encoded data removed]",
      "text/plain": [
       "<Figure size 432x288 with 1 Axes>"
      ]
     },
     "metadata": {},
     "output_type": "display_data"
    }
   ],
   "source": [
    "#Normalization\n",
    "X_train = X_train / 255\n",
    "X_test = X_test / 255\n",
    "\n",
    "#Reshape\n",
    "X_train = X_train.values.reshape(-1,28,28,1)\n",
    "X_test = X_test.values.reshape(-1,28,28,1)\n",
    "\n",
    "#Encode labels to one hot vectors\n",
    "y_train = to_categorical(y_train, num_classes=10)\n",
    "y_test = to_categorical(y_test, num_classes=10)\n",
    "\n",
    "#split training and validation set for the fitting\n",
    "random_seed = 2\n",
    "X_train, X_val, y_train, y_val = train_test_split(X_train,\n",
    "                                                 y_train,\n",
    "                                                 test_size=0.1,\n",
    "                                                 random_state=random_seed)\n",
    "g = plt.imshow(X_train[777][:,:,0])"
   ]
  },
  {
   "cell_type": "code",
   "execution_count": 32,
   "metadata": {},
   "outputs": [],
   "source": [
    "# save class labels to disk to color data points in TensorBoard accordingly\n",
    "with open(join(log_dir, 'metadata.tsv'), 'w') as f:\n",
    "    np.savetxt(f, y_val)"
   ]
  },
  {
   "cell_type": "code",
   "execution_count": 33,
   "metadata": {},
   "outputs": [],
   "source": [
    "tensorboard2 = TensorBoard(batch_size=batch_size,\n",
    "                          embeddings_freq=1,\n",
    "                          embeddings_layer_names=['features'],\n",
    "                          embeddings_metadata='metadata.tsv',\n",
    "                          embeddings_data= X_val,\n",
    "                          histogram_freq=0, \n",
    "                          write_graph=True, \n",
    "                          write_grads=False, \n",
    "                          write_images=False, \n",
    "                          update_freq='epoch',\n",
    "                          log_dir=log_dir )"
   ]
  },
  {
   "cell_type": "code",
   "execution_count": 34,
   "metadata": {},
   "outputs": [],
   "source": [
    "model2 = Sequential()\n",
    "model2.add(Flatten(input_shape=(28,28,1))),\n",
    "model2.add(Dense(128, activation=tf.nn.relu, name='features'))\n",
    "# output = relu (dot (W, input) + bias)\n",
    "model2.add(Dense(10, activation=tf.nn.softmax))"
   ]
  },
  {
   "cell_type": "code",
   "execution_count": 35,
   "metadata": {
    "colab": {},
    "colab_type": "code",
    "id": "n9FD7vADxloy"
   },
   "outputs": [],
   "source": [
    "#set optimizer and annealer\n",
    "optimizer = Adam(epsilon=1e-08)\n",
    "model2.compile(optimizer=optimizer, loss='categorical_crossentropy',\n",
    "             metrics=['accuracy'])"
   ]
  },
  {
   "cell_type": "code",
   "execution_count": 36,
   "metadata": {
    "colab": {},
    "colab_type": "code",
    "id": "jgL4z3mXxlo8"
   },
   "outputs": [],
   "source": [
    "#data augmentation\n",
    "datagen2 = ImageDataGenerator(\n",
    "            featurewise_center=True,\n",
    "            featurewise_std_normalization=True,\n",
    "            rotation_range=20,\n",
    "            width_shift_range=0.2,\n",
    "            height_shift_range=0.2)\n",
    "datagen2.fit(X_train)"
   ]
  },
  {
   "cell_type": "code",
   "execution_count": 37,
   "metadata": {
    "colab": {},
    "colab_type": "code",
    "id": "-Oj_PQ1hxlpB",
    "outputId": "6b42008e-3ed7-40ea-a2f8-338697e68a1b"
   },
   "outputs": [
    {
     "name": "stdout",
     "output_type": "stream",
     "text": [
      "Epoch 1/10\n",
      "64/64 [==============================] - 2s 39ms/step - loss: 1.9233 - acc: 0.3411 - val_loss: 2.1491 - val_acc: 0.2243\n",
      "Epoch 2/10\n",
      "64/64 [==============================] - 2s 34ms/step - loss: 1.4020 - acc: 0.5354 - val_loss: 2.0109 - val_acc: 0.3327\n",
      "Epoch 3/10\n",
      "64/64 [==============================] - 2s 31ms/step - loss: 1.1622 - acc: 0.6316 - val_loss: 1.8869 - val_acc: 0.3920\n",
      "Epoch 4/10\n",
      "64/64 [==============================] - 2s 30ms/step - loss: 1.0062 - acc: 0.6860 - val_loss: 1.8019 - val_acc: 0.4230\n",
      "Epoch 5/10\n",
      "64/64 [==============================] - 2s 31ms/step - loss: 0.8802 - acc: 0.7253 - val_loss: 1.6965 - val_acc: 0.4487\n",
      "Epoch 6/10\n",
      "64/64 [==============================] - 2s 33ms/step - loss: 0.7981 - acc: 0.7493 - val_loss: 1.6333 - val_acc: 0.4992\n",
      "Epoch 7/10\n",
      "64/64 [==============================] - 2s 30ms/step - loss: 0.7373 - acc: 0.7766 - val_loss: 1.5507 - val_acc: 0.4980\n",
      "Epoch 8/10\n",
      "64/64 [==============================] - 2s 30ms/step - loss: 0.6955 - acc: 0.7915 - val_loss: 1.4691 - val_acc: 0.5958\n",
      "Epoch 9/10\n",
      "64/64 [==============================] - 2s 31ms/step - loss: 0.6525 - acc: 0.7937 - val_loss: 1.4293 - val_acc: 0.6280\n",
      "Epoch 10/10\n",
      "64/64 [==============================] - 2s 32ms/step - loss: 0.6161 - acc: 0.8062 - val_loss: 1.4057 - val_acc: 0.6382\n"
     ]
    }
   ],
   "source": [
    "history2 = model2.fit_generator(datagen.flow(x = X_train, y = y_train, batch_size = batch_size),\n",
    "                              callbacks=[tensorboard2 ],#callbacks_list,\n",
    "                              epochs = epochs, \n",
    "                              verbose = 1,\n",
    "                              validation_data = (X_val, y_val), \n",
    "                              steps_per_epoch = batch_size \n",
    "                              #steps_per_epoch = X_train.shape[0] // batch_size\n",
    "                   )"
   ]
  },
  {
   "cell_type": "code",
   "execution_count": null,
   "metadata": {},
   "outputs": [],
   "source": []
  }
 ],
 "metadata": {
  "colab": {
   "name": "MNIST 98.9 with Batch_size=64.ipynb",
   "provenance": [],
   "version": "0.3.2"
  },
  "kernelspec": {
   "display_name": "Python 3",
   "language": "python",
   "name": "python3"
  },
  "language_info": {
   "codemirror_mode": {
    "name": "ipython",
    "version": 3
   },
   "file_extension": ".py",
   "mimetype": "text/x-python",
   "name": "python",
   "nbconvert_exporter": "python",
   "pygments_lexer": "ipython3",
   "version": "3.7.3"
  }
 },
 "nbformat": 4,
 "nbformat_minor": 1
}
